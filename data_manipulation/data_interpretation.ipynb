{
 "cells": [
  {
   "cell_type": "code",
   "execution_count": 1,
   "id": "6ec16218",
   "metadata": {},
   "outputs": [
    {
     "name": "stdout",
     "output_type": "stream",
     "text": [
      "Collecting openpyxl\n",
      "  Downloading openpyxl-3.1.5-py2.py3-none-any.whl.metadata (2.5 kB)\n",
      "Collecting et-xmlfile (from openpyxl)\n",
      "  Downloading et_xmlfile-2.0.0-py3-none-any.whl.metadata (2.7 kB)\n",
      "Downloading openpyxl-3.1.5-py2.py3-none-any.whl (250 kB)\n",
      "Downloading et_xmlfile-2.0.0-py3-none-any.whl (18 kB)\n",
      "Installing collected packages: et-xmlfile, openpyxl\n",
      "Successfully installed et-xmlfile-2.0.0 openpyxl-3.1.5\n"
     ]
    }
   ],
   "source": [
    "!pip install openpyxl"
   ]
  },
  {
   "cell_type": "code",
   "execution_count": 23,
   "id": "f486b791",
   "metadata": {},
   "outputs": [],
   "source": [
    "import numpy as np\n",
    "import pandas as pd\n"
   ]
  },
  {
   "cell_type": "code",
   "execution_count": null,
   "id": "ef840342",
   "metadata": {},
   "outputs": [
    {
     "name": "stdout",
     "output_type": "stream",
     "text": [
      "['AICVD_Data', 'Discharges_Data', 'Discharge_Summary_Data', 'Surgery_Data', 'Equipment_Ventilation_Data']\n",
      "\n",
      "\n",
      "Index(['UHID', 'NAME', 'GENDER', 'AGE', 'ADMISSIONTYPE', 'HEIGHT', 'WEIGHT',\n",
      "       'BMI', 'HYPERTENSION', 'DIABETIESMILLITUS', 'DYSLIPIDAMIA',\n",
      "       'HISTORYOFHEARTDISEASE', 'FAMILYHISTORYOFHEARTDISEASE',\n",
      "       'PREVCORONARYARTERYDISEASE', 'DIET', 'ALCOHOL', 'SMOKING', 'TOBACCO',\n",
      "       'PHYSICALACTIVITY', 'HEARTSYMPTOM', 'HEARTTRATE', 'SYSTOLICBP',\n",
      "       'DIASTOLICBP', 'BREATHINGRHYTHM', 'RESPIRATIONRATE', 'APOLLOSCORE',\n",
      "       'APOLLORISK', 'OPTIMALSCORE', 'FRAMINGHAMSCORE', 'FRAMINGHAMRISK',\n",
      "       'CREATEDDATE', 'CREATEDBY', 'UPDATEDDATE', 'UPDATEDBY', 'CARDIACVISITS',\n",
      "       'ADMISSIONNUMBER', 'DATEOFVISIT', 'PSYCHOLOGICALSTRESS',\n",
      "       'TOPRISKCONTRIBUTORS'],\n",
      "      dtype='object')\n",
      "Index(['UHID', 'IPNO', 'DATEOFBIRTH', 'GENDER', 'DOA', 'DOD', 'DOCTOR',\n",
      "       'SPECIALITY', 'CASESPLIT', 'BILLDATE', 'ADMITTED_BED_NO',\n",
      "       'ADMITTED_WARD', 'DISCHARGE_BED_NO', 'PATIENT_STATUS', 'DATEOFDEATH',\n",
      "       'TIMEOFDEATH'],\n",
      "      dtype='object')\n",
      "Index(['UHID', 'IPNO', 'PATIENTNAME', 'DATEOFBIRTH', 'GENDER', 'DOA', 'DOD',\n",
      "       'DOCTOR', 'SPECIALITY', 'DIAGNOSISNAME', 'PARAMETERNAME',\n",
      "       'PARAMETERDETAILVALUE'],\n",
      "      dtype='object')\n",
      "Index(['LOCATION_NAME', 'UHID', 'IPNO', 'SURGERYDATE', 'DATEOFADMISSION',\n",
      "       'DISCHARGEINITIATEDDATETIME', 'BILLDATE', 'REQUESTNO', 'PATIENTNAME',\n",
      "       'SERVICENAME', 'FREE_TEXT_SURGERY', 'OTSTARTDATETIME', 'OTENDDATETIME',\n",
      "       'OTDURATION', 'ROOMNAME', 'SURGEON', 'SPECIALITY_NAME', 'PATIENT_TYPE',\n",
      "       'DOCTOR', 'SPECIALITY'],\n",
      "      dtype='object')\n",
      "Index(['LOCATION', 'IPNO', 'CREATEDDATE', 'SERVICENAME', 'STARTDATETIME',\n",
      "       'ENDDATETIME', 'REQUESTNO', 'BEDNO', 'WARDNAME', 'RAISEDBY', 'COMPANY'],\n",
      "      dtype='object')\n"
     ]
    }
   ],
   "source": [
    "# Load the Excel file - RAW\n",
    "xls = pd.ExcelFile(\"../data/1_Raw_Encrypted_Data.xlsx\", engine='openpyxl')\n",
    "sheet_names = xls.sheet_names\n",
    "\n",
    "# Get sheet names\n",
    "sheet_names = xls.sheet_names\n",
    "\n",
    "# Load each sheet into a DataFrame\n",
    "df1 = xls.parse(sheet_names[0])\n",
    "df2 = xls.parse(sheet_names[1])\n",
    "df3 = xls.parse(sheet_names[2])\n",
    "df4 = xls.parse(sheet_names[3])\n",
    "df5 = xls.parse(sheet_names[4])\n",
    "\n",
    "print(sheet_names)\n",
    "\n",
    "print(\"\\n\")\n",
    "\n",
    "print(df1.columns)\n",
    "print(df2.columns)\n",
    "print(df3.columns)\n",
    "print(df4.columns)\n",
    "print(df5.columns)"
   ]
  },
  {
   "cell_type": "markdown",
   "id": "73daa55a",
   "metadata": {},
   "source": [
    "- 'Course_in_Hospital'\n",
    "- 'Surgical_Service_Name'\n",
    "- 'Surgery_Notes_Free_Text'\n",
    "- 'Operation_Theatre_Notes'\n",
    "\n",
    "Columns used for PCS Codes "
   ]
  },
  {
   "cell_type": "markdown",
   "id": "48739cf0",
   "metadata": {},
   "source": []
  },
  {
   "cell_type": "code",
   "execution_count": 20,
   "id": "3440b949",
   "metadata": {},
   "outputs": [
    {
     "name": "stdout",
     "output_type": "stream",
     "text": [
      "Index(['UHID', 'IPNO', 'Sex', 'AgeInYears', 'AdmitDate', 'DischargeDate',\n",
      "       'ALOS_Calculated', 'LABEL', 'Total_Ventilation_Hours',\n",
      "       'DaysOnMechanicalVentilation', 'DMVDaysAfterAdmission',\n",
      "       'DischargeStatus', 'Discharge_Status_Category_Name',\n",
      "       'Diagnosis_Details', 'Course_in_Hospital', 'PrincipalDiagnosis',\n",
      "       'PrincipalDiagnosisPOA', 'SecondaryDiagnosis', 'SecondaryDiagnosisPOA',\n",
      "       'Operation_Theatre_Notes', 'Surgical_Service_Name',\n",
      "       'Surgery_Notes_Free_Text', 'OTSTART DATETIME', 'OTEND DATETIME',\n",
      "       'OTDURATION', 'ProcedureDate', 'Procedure (All)', 'Code', 'C1 Section',\n",
      "       'C2 Body System', 'C3 RootOp', 'C4 Body Part', 'C5 Approach', 'Code.1',\n",
      "       'C1 Section.1', 'C2 Body System.1', 'C3 RootOp.1', 'C4 Body Part.1',\n",
      "       'C5 Approach.1', 'Code.2', 'C1 Section.2', 'C2 Body System.2',\n",
      "       'C3 RootOp.2', 'C4 Body Part.2', 'C5 Approach.2', 'Code.3',\n",
      "       'C1 Section.3', 'C2 Body System.3', 'C3 RootOp.3', 'C4 Body Part.3',\n",
      "       'C5 Approach.3', 'Code.4', 'C1 Section.4', 'C2 Body System.4',\n",
      "       'C3 RootOp.4', 'C4 Body Part.4', 'C5 Approach.4', 'Code.5',\n",
      "       'C1 Section.5', 'C2 Body System.5', 'C3 RootOp.5', 'C4 Body Part.5',\n",
      "       'C5 Approach.5'],\n",
      "      dtype='object')\n"
     ]
    }
   ],
   "source": [
    "# Load the first few rows without specifying headers\n",
    "audit_samples = pd.read_excel(\"../data/3_Encrypted_Audit_Sample_Cohort_149_Detailed_PCS.xlsx\", \n",
    "                           header=1, engine='openpyxl')\n",
    "\n",
    "print(audit_samples.columns)"
   ]
  },
  {
   "cell_type": "code",
   "execution_count": 30,
   "id": "9aef5e54",
   "metadata": {},
   "outputs": [
    {
     "ename": "KeyError",
     "evalue": "'UHID'",
     "output_type": "error",
     "traceback": [
      "\u001b[31m---------------------------------------------------------------------------\u001b[39m",
      "\u001b[31mKeyError\u001b[39m                                  Traceback (most recent call last)",
      "\u001b[36mFile \u001b[39m\u001b[32m~/miniconda3/lib/python3.12/site-packages/pandas/core/indexes/base.py:3812\u001b[39m, in \u001b[36mIndex.get_loc\u001b[39m\u001b[34m(self, key)\u001b[39m\n\u001b[32m   3811\u001b[39m \u001b[38;5;28;01mtry\u001b[39;00m:\n\u001b[32m-> \u001b[39m\u001b[32m3812\u001b[39m     \u001b[38;5;28;01mreturn\u001b[39;00m \u001b[38;5;28;43mself\u001b[39;49m\u001b[43m.\u001b[49m\u001b[43m_engine\u001b[49m\u001b[43m.\u001b[49m\u001b[43mget_loc\u001b[49m\u001b[43m(\u001b[49m\u001b[43mcasted_key\u001b[49m\u001b[43m)\u001b[49m\n\u001b[32m   3813\u001b[39m \u001b[38;5;28;01mexcept\u001b[39;00m \u001b[38;5;167;01mKeyError\u001b[39;00m \u001b[38;5;28;01mas\u001b[39;00m err:\n",
      "\u001b[36mFile \u001b[39m\u001b[32mpandas/_libs/index.pyx:167\u001b[39m, in \u001b[36mpandas._libs.index.IndexEngine.get_loc\u001b[39m\u001b[34m()\u001b[39m\n",
      "\u001b[36mFile \u001b[39m\u001b[32mpandas/_libs/index.pyx:196\u001b[39m, in \u001b[36mpandas._libs.index.IndexEngine.get_loc\u001b[39m\u001b[34m()\u001b[39m\n",
      "\u001b[36mFile \u001b[39m\u001b[32mpandas/_libs/hashtable_class_helper.pxi:7088\u001b[39m, in \u001b[36mpandas._libs.hashtable.PyObjectHashTable.get_item\u001b[39m\u001b[34m()\u001b[39m\n",
      "\u001b[36mFile \u001b[39m\u001b[32mpandas/_libs/hashtable_class_helper.pxi:7096\u001b[39m, in \u001b[36mpandas._libs.hashtable.PyObjectHashTable.get_item\u001b[39m\u001b[34m()\u001b[39m\n",
      "\u001b[31mKeyError\u001b[39m: 'UHID'",
      "\nThe above exception was the direct cause of the following exception:\n",
      "\u001b[31mKeyError\u001b[39m                                  Traceback (most recent call last)",
      "\u001b[36mCell\u001b[39m\u001b[36m \u001b[39m\u001b[32mIn[30]\u001b[39m\u001b[32m, line 2\u001b[39m\n\u001b[32m      1\u001b[39m \u001b[38;5;66;03m# First, ensure 'UHID' columns are all strings (or same type)\u001b[39;00m\n\u001b[32m----> \u001b[39m\u001b[32m2\u001b[39m audit_samples[\u001b[33m'\u001b[39m\u001b[33mUHID\u001b[39m\u001b[33m'\u001b[39m] = \u001b[43maudit_samples\u001b[49m\u001b[43m[\u001b[49m\u001b[33;43m'\u001b[39;49m\u001b[33;43mUHID\u001b[39;49m\u001b[33;43m'\u001b[39;49m\u001b[43m]\u001b[49m.astype(\u001b[38;5;28mstr\u001b[39m)\n\u001b[32m      4\u001b[39m \u001b[38;5;28;01mfor\u001b[39;00m i, df \u001b[38;5;129;01min\u001b[39;00m \u001b[38;5;28menumerate\u001b[39m([df1, df2, df3, df4, df5], start=\u001b[32m1\u001b[39m):\n\u001b[32m      5\u001b[39m     \u001b[38;5;28;01mif\u001b[39;00m \u001b[33m'\u001b[39m\u001b[33mUHID\u001b[39m\u001b[33m'\u001b[39m \u001b[38;5;129;01min\u001b[39;00m df.columns:\n",
      "\u001b[36mFile \u001b[39m\u001b[32m~/miniconda3/lib/python3.12/site-packages/pandas/core/frame.py:4107\u001b[39m, in \u001b[36mDataFrame.__getitem__\u001b[39m\u001b[34m(self, key)\u001b[39m\n\u001b[32m   4105\u001b[39m \u001b[38;5;28;01mif\u001b[39;00m \u001b[38;5;28mself\u001b[39m.columns.nlevels > \u001b[32m1\u001b[39m:\n\u001b[32m   4106\u001b[39m     \u001b[38;5;28;01mreturn\u001b[39;00m \u001b[38;5;28mself\u001b[39m._getitem_multilevel(key)\n\u001b[32m-> \u001b[39m\u001b[32m4107\u001b[39m indexer = \u001b[38;5;28;43mself\u001b[39;49m\u001b[43m.\u001b[49m\u001b[43mcolumns\u001b[49m\u001b[43m.\u001b[49m\u001b[43mget_loc\u001b[49m\u001b[43m(\u001b[49m\u001b[43mkey\u001b[49m\u001b[43m)\u001b[49m\n\u001b[32m   4108\u001b[39m \u001b[38;5;28;01mif\u001b[39;00m is_integer(indexer):\n\u001b[32m   4109\u001b[39m     indexer = [indexer]\n",
      "\u001b[36mFile \u001b[39m\u001b[32m~/miniconda3/lib/python3.12/site-packages/pandas/core/indexes/base.py:3819\u001b[39m, in \u001b[36mIndex.get_loc\u001b[39m\u001b[34m(self, key)\u001b[39m\n\u001b[32m   3814\u001b[39m     \u001b[38;5;28;01mif\u001b[39;00m \u001b[38;5;28misinstance\u001b[39m(casted_key, \u001b[38;5;28mslice\u001b[39m) \u001b[38;5;129;01mor\u001b[39;00m (\n\u001b[32m   3815\u001b[39m         \u001b[38;5;28misinstance\u001b[39m(casted_key, abc.Iterable)\n\u001b[32m   3816\u001b[39m         \u001b[38;5;129;01mand\u001b[39;00m \u001b[38;5;28many\u001b[39m(\u001b[38;5;28misinstance\u001b[39m(x, \u001b[38;5;28mslice\u001b[39m) \u001b[38;5;28;01mfor\u001b[39;00m x \u001b[38;5;129;01min\u001b[39;00m casted_key)\n\u001b[32m   3817\u001b[39m     ):\n\u001b[32m   3818\u001b[39m         \u001b[38;5;28;01mraise\u001b[39;00m InvalidIndexError(key)\n\u001b[32m-> \u001b[39m\u001b[32m3819\u001b[39m     \u001b[38;5;28;01mraise\u001b[39;00m \u001b[38;5;167;01mKeyError\u001b[39;00m(key) \u001b[38;5;28;01mfrom\u001b[39;00m \u001b[34;01merr\u001b[39;00m\n\u001b[32m   3820\u001b[39m \u001b[38;5;28;01mexcept\u001b[39;00m \u001b[38;5;167;01mTypeError\u001b[39;00m:\n\u001b[32m   3821\u001b[39m     \u001b[38;5;66;03m# If we have a listlike key, _check_indexing_error will raise\u001b[39;00m\n\u001b[32m   3822\u001b[39m     \u001b[38;5;66;03m#  InvalidIndexError. Otherwise we fall through and re-raise\u001b[39;00m\n\u001b[32m   3823\u001b[39m     \u001b[38;5;66;03m#  the TypeError.\u001b[39;00m\n\u001b[32m   3824\u001b[39m     \u001b[38;5;28mself\u001b[39m._check_indexing_error(key)\n",
      "\u001b[31mKeyError\u001b[39m: 'UHID'"
     ]
    }
   ],
   "source": [
    "# First, ensure 'UHID' columns are all strings (or same type)\n",
    "audit_samples['UHID'] = audit_samples['UHID'].astype(str)\n",
    "\n",
    "for i, df in enumerate([df1, df2, df3, df4, df5], start=1):\n",
    "    if 'UHID' in df.columns:\n",
    "        df['UHID'] = df['UHID'].astype(str)\n",
    "        common = set(audit_samples['UHID']) & set(df['UHID'])\n",
    "        print(f\"Common UHIDs with df{i}: {len(common)}\")\n",
    "    else:\n",
    "        print(f\"df{i} does not have a 'UHID' column.\")"
   ]
  },
  {
   "cell_type": "code",
   "execution_count": null,
   "id": "74932ba4",
   "metadata": {},
   "outputs": [],
   "source": []
  }
 ],
 "metadata": {
  "kernelspec": {
   "display_name": "base",
   "language": "python",
   "name": "python3"
  },
  "language_info": {
   "codemirror_mode": {
    "name": "ipython",
    "version": 3
   },
   "file_extension": ".py",
   "mimetype": "text/x-python",
   "name": "python",
   "nbconvert_exporter": "python",
   "pygments_lexer": "ipython3",
   "version": "3.12.2"
  }
 },
 "nbformat": 4,
 "nbformat_minor": 5
}
