{
 "cells": [
  {
   "cell_type": "code",
   "execution_count": 4,
   "id": "d5d83210",
   "metadata": {},
   "outputs": [
    {
     "name": "stdout",
     "output_type": "stream",
     "text": [
      "\n",
      "Columns in the data:\n",
      "['UHID', 'IPNO', 'Sex', 'AgeInYears', 'AdmitDate', 'DischargeDate', 'ALOS_Calculated', 'LABEL', 'Total_Ventilation_Hours', 'DaysOnMechanicalVentilation', 'DMVDaysAfterAdmission', 'DischargeStatus', 'Discharge_Status_Category_Name', 'Diagnosis_Details', 'Course_in_Hospital', 'PrincipalDiagnosis', 'PrincipalDiagnosisPOA', 'SecondaryDiagnosis', 'SecondaryDiagnosisPOA', 'Operation_Theatre_Notes', 'Surgical_Service_Name', 'Surgery_Notes_Free_Text', 'OTSTART DATETIME', 'OTEND DATETIME', 'OTDURATION', 'ProcedureDate', 'Procedure (All)', 'Code', 'C1 Section', 'C2 Body System', 'C3 RootOp', 'C4 Body Part', 'C5 Approach', 'Code.1', 'C1 Section.1', 'C2 Body System.1', 'C3 RootOp.1', 'C4 Body Part.1', 'C5 Approach.1', 'Code.2', 'C1 Section.2', 'C2 Body System.2', 'C3 RootOp.2', 'C4 Body Part.2', 'C5 Approach.2', 'Code.3', 'C1 Section.3', 'C2 Body System.3', 'C3 RootOp.3', 'C4 Body Part.3', 'C5 Approach.3', 'Code.4', 'C1 Section.4', 'C2 Body System.4', 'C3 RootOp.4', 'C4 Body Part.4', 'C5 Approach.4', 'Code.5', 'C1 Section.5', 'C2 Body System.5', 'C3 RootOp.5', 'C4 Body Part.5', 'C5 Approach.5']\n"
     ]
    }
   ],
   "source": [
    "import pandas as pd\n",
    "\n",
    "# Step 2: Load the actual data with correct header (row index 2 = third row)\n",
    "df = pd.read_excel(\"../data/3_Encrypted_Audit_Sample_Cohort_149_Detailed_PCS.xlsx\", header=1)\n",
    "\n",
    "# Step 3: Print the column names\n",
    "print(\"\\nColumns in the data:\")\n",
    "print(df.columns.tolist())\n"
   ]
  },
  {
   "cell_type": "code",
   "execution_count": 6,
   "id": "20db7fa6",
   "metadata": {},
   "outputs": [
    {
     "name": "stdout",
     "output_type": "stream",
     "text": [
      "Saved filtered IPNOs to 'ventilated_ipnos.csv'\n"
     ]
    }
   ],
   "source": [
    "filtered_df = df[df['Total_Ventilation_Hours'].notna()] # Drop the samples wiht nota values in Total_Ventilation_Hours\n",
    "filtered_df[['IPNO', 'Total_Ventilation_Hours']].to_csv(\"ventilated_ipnos.csv\", index=False)\n",
    "print(\"Saved filtered IPNOs to 'ventilated_ipnos.csv'\")\n"
   ]
  }
 ],
 "metadata": {
  "kernelspec": {
   "display_name": "base",
   "language": "python",
   "name": "python3"
  },
  "language_info": {
   "codemirror_mode": {
    "name": "ipython",
    "version": 3
   },
   "file_extension": ".py",
   "mimetype": "text/x-python",
   "name": "python",
   "nbconvert_exporter": "python",
   "pygments_lexer": "ipython3",
   "version": "3.12.2"
  }
 },
 "nbformat": 4,
 "nbformat_minor": 5
}
